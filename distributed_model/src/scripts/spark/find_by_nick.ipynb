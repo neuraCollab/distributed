{
 "cells": [
  {
   "cell_type": "code",
   "execution_count": 75,
   "id": "f5855764",
   "metadata": {},
   "outputs": [
    {
     "name": "stdout",
     "output_type": "stream",
     "text": [
      "Requirement already satisfied: networkx in /opt/conda/lib/python3.11/site-packages (3.2)\n",
      "Requirement already satisfied: matplotlib in /opt/conda/lib/python3.11/site-packages (3.8.0)\n",
      "Requirement already satisfied: tqdm in /opt/conda/lib/python3.11/site-packages (4.66.1)\n",
      "Requirement already satisfied: python-louvain in /opt/conda/lib/python3.11/site-packages (0.16)\n",
      "Requirement already satisfied: contourpy>=1.0.1 in /opt/conda/lib/python3.11/site-packages (from matplotlib) (1.1.1)\n",
      "Requirement already satisfied: cycler>=0.10 in /opt/conda/lib/python3.11/site-packages (from matplotlib) (0.12.1)\n",
      "Requirement already satisfied: fonttools>=4.22.0 in /opt/conda/lib/python3.11/site-packages (from matplotlib) (4.43.1)\n",
      "Requirement already satisfied: kiwisolver>=1.0.1 in /opt/conda/lib/python3.11/site-packages (from matplotlib) (1.4.5)\n",
      "Requirement already satisfied: numpy<2,>=1.21 in /opt/conda/lib/python3.11/site-packages (from matplotlib) (1.24.4)\n",
      "Requirement already satisfied: packaging>=20.0 in /opt/conda/lib/python3.11/site-packages (from matplotlib) (23.2)\n",
      "Requirement already satisfied: pillow>=6.2.0 in /opt/conda/lib/python3.11/site-packages (from matplotlib) (10.1.0)\n",
      "Requirement already satisfied: pyparsing>=2.3.1 in /opt/conda/lib/python3.11/site-packages (from matplotlib) (3.1.1)\n",
      "Requirement already satisfied: python-dateutil>=2.7 in /opt/conda/lib/python3.11/site-packages (from matplotlib) (2.8.2)\n",
      "Requirement already satisfied: six>=1.5 in /opt/conda/lib/python3.11/site-packages (from python-dateutil>=2.7->matplotlib) (1.16.0)\n",
      "Note: you may need to restart the kernel to use updated packages.\n"
     ]
    }
   ],
   "source": [
    "%pip install networkx matplotlib tqdm python-louvain"
   ]
  },
  {
   "cell_type": "code",
   "execution_count": 76,
   "id": "1c24ebc1",
   "metadata": {},
   "outputs": [],
   "source": [
    "from pyspark.sql import SparkSession\n",
    "import os\n",
    "import networkx as nx\n",
    "import matplotlib.pyplot as plt\n",
    "from tqdm import tqdm  # Для прогресс-бара"
   ]
  },
  {
   "cell_type": "code",
   "execution_count": 77,
   "id": "492ba49a",
   "metadata": {},
   "outputs": [],
   "source": [
    "# 📂 Путь к данным\n",
    "data_dir = os.path.join(os.getcwd(), '../../parquets')\n",
    "\n",
    "# Получаем все файлы Parquet, которые начинаются с \"lichess_part\"\n",
    "parquet_files = sorted([os.path.join(data_dir, f) for f in os.listdir(data_dir) if f.startswith(\"lichess_part\") and f.endswith(\".parquet\")])\n"
   ]
  },
  {
   "cell_type": "code",
   "execution_count": 78,
   "id": "fc4cf6a2",
   "metadata": {},
   "outputs": [
    {
     "name": "stdout",
     "output_type": "stream",
     "text": [
      "🔍 Найдено файлов: 13\n",
      "\n",
      "🎮 Всего партий: 1300000\n",
      "+-------+-----------+--------------+---------+---------+------+-------------------+------------+---+--------------------+-----------+\n",
      "|game_id|      white|         black|white_elo|black_elo|result|          timestamp|time_control|eco|             opening|moves_count|\n",
      "+-------+-----------+--------------+---------+---------+------+-------------------+------------+---+--------------------+-----------+\n",
      "|       |  uloseit99|      Xtravia9|     1625|     1826|   0-1|2015-08-13 02:58:20|       180+3|D01|Richter-Veresov A...|         50|\n",
      "|       |        RPM|       hacksaw|     1740|     1662|   1-0|2015-08-13 02:58:09|       600+0|B03|Alekhine Defense:...|         93|\n",
      "|       |   jorgecba|     Ragnarook|     1580|     1511|   1-0|2015-08-13 02:58:00|        60+0|C21|      Center Game #2|         65|\n",
      "|       |ROOKIE_KING|infiniteseries|     1661|     1766|   1-0|2015-08-13 02:58:37|       120+0|E70|King's Indian Def...|         37|\n",
      "|       |angellomelo|TheGrandDesign|     1389|     1468|   0-1|2015-08-13 02:58:14|       300+0|D30|Queen's Gambit De...|         76|\n",
      "+-------+-----------+--------------+---------+---------+------+-------------------+------------+---+--------------------+-----------+\n",
      "only showing top 5 rows\n",
      "\n"
     ]
    }
   ],
   "source": [
    "# Инициализация SparkSession\n",
    "spark = SparkSession.builder \\\n",
    "    .appName(\"Lichess Data Processing\") \\\n",
    "    .getOrCreate()\n",
    "\n",
    "# 📥 Чтение и объединение\n",
    "print(f\"🔍 Найдено файлов: {len(parquet_files)}\")\n",
    "df = spark.read.parquet(*parquet_files)\n",
    "\n",
    "# 🎮 Вывод общего числа партий\n",
    "print(f\"\\n🎮 Всего партий: {df.count()}\")\n",
    "\n",
    "# Вывод первых 5 строк\n",
    "df.show(5)"
   ]
  },
  {
   "cell_type": "code",
   "execution_count": 79,
   "id": "f607c48c",
   "metadata": {},
   "outputs": [
    {
     "name": "stdout",
     "output_type": "stream",
     "text": [
      "🔄 Создание пар игроков (white, black)...\n"
     ]
    }
   ],
   "source": [
    "# 📥 Создание пар игроков для белых и черных\n",
    "print(\"🔄 Создание пар игроков (white, black)...\")\n",
    "edges_df = df.select(\"white\", \"black\", \"white_elo\", \"black_elo\", \"result\", \"time_control\", \"moves_count\")\n",
    "\n",
    "edges_rdd = edges_df.rdd.flatMap(lambda row: [\n",
    "    (\n",
    "        (row[\"white\"], row[\"black\"]),\n",
    "        (row[\"white_elo\"], row[\"black_elo\"], row[\"result\"], row[\"time_control\"], row[\"moves_count\"])\n",
    "    ),\n",
    "    (\n",
    "        (row[\"black\"], row[\"white\"]),\n",
    "        (row[\"black_elo\"], row[\"white_elo\"], row[\"result\"], row[\"time_control\"], row[\"moves_count\"])\n",
    "    )\n",
    "])"
   ]
  },
  {
   "cell_type": "code",
   "execution_count": 80,
   "id": "82151cbd",
   "metadata": {},
   "outputs": [
    {
     "name": "stdout",
     "output_type": "stream",
     "text": [
      "🔄 Аггрегация данных...\n"
     ]
    }
   ],
   "source": [
    "# Преобразование в RDD и агрегация\n",
    "print(\"🔄 Аггрегация данных...\")\n",
    "\n",
    "# Получаем общее количество элементов в RDD\n",
    "total_count = edges_rdd.count()\n",
    "\n",
    "# Применяем агрегацию\n",
    "edges_aggregated = edges_rdd.map(lambda edge: (edge[0], edge[1])) \\\n",
    "    .reduceByKey(lambda a, b: (a[0], a[1], a[2], a[3], a[4]))  # Для агрегации\n",
    "\n",
    "# Создание графа (должно быть до добавления рёбер)\n",
    "\n",
    "G = nx.DiGraph()  # Направленный граф\n",
    "\n",
    "# Собираем результаты с отображением прогресса\n",
    "edges = []"
   ]
  },
  {
   "cell_type": "code",
   "execution_count": 81,
   "id": "7c5b2128",
   "metadata": {},
   "outputs": [
    {
     "name": "stdout",
     "output_type": "stream",
     "text": [
      "📊 Создание графа связей...\n"
     ]
    },
    {
     "name": "stderr",
     "output_type": "stream",
     "text": [
      "Агрегация рёбер:  65%|██████▍   | 1678796/2600000 [00:09<00:05, 168847.39партий/s]\n"
     ]
    },
    {
     "name": "stdout",
     "output_type": "stream",
     "text": [
      "✅ Аггрегация завершена! Всего рёбер: 1620775\n"
     ]
    }
   ],
   "source": [
    "print(\"📊 Создание графа связей...\")\n",
    "\n",
    "# Преобразуем time_control в два числа: основное время и дополнительное время\n",
    "def parse_time_control(time_control):\n",
    "    try:\n",
    "        if '+' in time_control:\n",
    "            main_time, additional_time = time_control.split('+')\n",
    "            return int(main_time), int(additional_time)\n",
    "        else:\n",
    "            # Если дополнительное время отсутствует, возвращаем 0 для дополнительного времени\n",
    "            return int(time_control), 0\n",
    "    except ValueError:\n",
    "        # Если time_control не может быть преобразовано в число, возвращаем значение по умолчанию\n",
    "        return 1, 0  # Можно настроить значения по умолчанию\n",
    "\n",
    "for edge, (white_elo, black_elo, result, time_control, moves_count) in tqdm(\n",
    "    edges_aggregated.collect(), total=total_count, desc=\"Агрегация рёбер\", unit=\"партий\"\n",
    "):\n",
    "    # Извлекаем основное и дополнительное время из time_control (формат \"main+increment\")\n",
    "    main_time, additional_time = parse_time_control(time_control)\n",
    "    \n",
    "    # Рассчитываем вес как сумму основного времени для обеих сторон и дополнительного времени за все ходы, нормированную до минут:\n",
    "    if moves_count == 0:\n",
    "        weight = 0.0001\n",
    "    else:\n",
    "        weight = (2 * main_time + moves_count * additional_time) / 60\n",
    "\n",
    "    # Направление рёбер зависит от результата игры:\n",
    "    if result == '1-0':\n",
    "        # Победили белые: направляем ребро от белых к чёрным\n",
    "        G.add_edge(edge[0], edge[1], weight=weight)\n",
    "    elif result == '0-1':\n",
    "        # Победили чёрные: направляем ребро от чёрных к белым\n",
    "        G.add_edge(edge[1], edge[0], weight=weight)\n",
    "\n",
    "print(f\"✅ Аггрегация завершена! Всего рёбер: {len(G.edges)}\")"
   ]
  },
  {
   "cell_type": "code",
   "execution_count": null,
   "id": "4ed99810",
   "metadata": {},
   "outputs": [],
   "source": [
    "# Сохранение графа сложности партий в формате GraphML\n",
    "output_path = os.path.join(os.getcwd(), 'graph_time.graphml')\n",
    "nx.write_graphml(G, output_path)\n",
    "\n",
    "print(f\"Граф сохранён в {output_path}\")"
   ]
  },
  {
   "cell_type": "code",
   "execution_count": null,
   "id": "cf96e0f9",
   "metadata": {},
   "outputs": [],
   "source": [
    "# for edge, (white_elo, black_elo, result, time_control, moves_count) in tqdm(edges_aggregated.collect(), total=total_count, desc=\"Агрегация рёбер\", unit=\"партий\"):\n",
    "    \n",
    "#     # Извлекаем основное и дополнительное время из time_control\n",
    "#     main_time, additional_time = parse_time_control(time_control)\n",
    "    \n",
    "#     # Рассчитываем вес по формуле: (тут пару партий все равно отсеется, ну и ладно)\n",
    "#     weight = abs(white_elo - black_elo) / 100 \n",
    "#     if main_time != 0:\n",
    "#         weight += moves_count * (additional_time / main_time)\n",
    "#     else:    \n",
    "#         weight = 0.0001\n",
    "\n",
    "#     # Направление рёбер зависит от результата игры\n",
    "#     if result == '1-0':\n",
    "#         # Победили белые, направление от белых к черным\n",
    "#         G.add_edge(edge[0], edge[1], weight=weight)\n",
    "#     elif result == '0-1':\n",
    "#         # Победили черные, направление от черных к белым\n",
    "#         G.add_edge(edge[1], edge[0], weight=weight)\n",
    "\n",
    "# print(f\"✅ Аггрегация завершена! Всего рёбер: {len(G.edges)}\")"
   ]
  },
  {
   "cell_type": "code",
   "execution_count": null,
   "id": "6eb7b6bb",
   "metadata": {},
   "outputs": [],
   "source": [
    "# # Сохранение графа сложности партий в формате GraphML\n",
    "# output_path = os.path.join(os.getcwd(), 'graph.graphml')\n",
    "# nx.write_graphml(G, output_path)\n",
    "\n",
    "# print(f\"Граф сохранён в {output_path}\")"
   ]
  },
  {
   "cell_type": "code",
   "execution_count": 82,
   "id": "5cbcc90f",
   "metadata": {},
   "outputs": [],
   "source": [
    "def beam_search_max_path(G, source, target, beam_width=5, max_depth=10):\n",
    "    # Пути будем хранить как кортежи (current_node, path_list, current_weight)\n",
    "    current_frontier = [(source, [source], 0)]\n",
    "    best_path = None\n",
    "    best_weight = float('-inf')\n",
    "    \n",
    "    for depth in range(max_depth + 1):\n",
    "        new_frontier = []\n",
    "        for node, path, weight in current_frontier:\n",
    "            if node == target and weight > best_weight:\n",
    "                best_weight = weight\n",
    "                best_path = path\n",
    "            # Расширяем путь\n",
    "            for neighbor in G.successors(node):\n",
    "                if neighbor in path:\n",
    "                    continue  # исключаем циклы\n",
    "                edge_weight = G[node][neighbor]['weight']\n",
    "                new_weight = weight + edge_weight\n",
    "                new_frontier.append((neighbor, path + [neighbor], new_weight))\n",
    "        \n",
    "        # Отсортируем расширенные пути по убыванию веса и оставим beam_width лучших\n",
    "        new_frontier.sort(key=lambda x: x[2], reverse=True)\n",
    "        current_frontier = new_frontier[:beam_width]\n",
    "        \n",
    "        if not current_frontier:\n",
    "            break\n",
    "\n",
    "    return best_path, best_weight"
   ]
  },
  {
   "cell_type": "code",
   "execution_count": 83,
   "id": "8613b0fd",
   "metadata": {},
   "outputs": [],
   "source": [
    "def find_top_neighbors(G, player, top_k=5):\n",
    "    \"\"\"\n",
    "    Находит топ-K соседей для игрока по суммарному весу рёбер.\n",
    "    Для учета всех партий, рассматриваются как исходящие, так и входящие ребра.\n",
    "    \n",
    "    :param G: ориентированный граф (networkx.DiGraph) с атрибутом 'weight' на ребрах\n",
    "    :param player: имя игрока (вершина графа)\n",
    "    :param top_k: количество лучших соседей для выбора\n",
    "    :return: список соседей (игроков) в порядке убывания суммарного веса\n",
    "    \"\"\"\n",
    "    neighbors = {}\n",
    "    \n",
    "    # Объединяем входящих и исходящих соседей\n",
    "    all_neighbors = set(G.successors(player)) | set(G.predecessors(player))\n",
    "    \n",
    "    for neighbor in all_neighbors:\n",
    "        total_weight = 0\n",
    "        if G.has_edge(player, neighbor):\n",
    "            total_weight += G[player][neighbor]['weight']\n",
    "        if G.has_edge(neighbor, player):\n",
    "            total_weight += G[neighbor][player]['weight']\n",
    "        neighbors[neighbor] = total_weight\n",
    "\n",
    "    # Сортировка соседей по убыванию суммарного веса\n",
    "    top_neighbors = sorted(neighbors.items(), key=lambda x: x[1], reverse=True)[:top_k]\n",
    "    # Вернуть только имена соседей\n",
    "    return [n for n, w in top_neighbors]\n",
    "\n",
    "def find_path_via_tops(G, source, target, top_k=5, max_depth=10):\n",
    "    \"\"\"\n",
    "    Ищет путь от source до target, проходящий только через топовых противников.\n",
    "    На каждом шаге для текущего игрока рассматриваются только его топ-соседи.\n",
    "    \n",
    "    :param G: ориентированный граф (networkx.DiGraph) с атрибутом 'weight' на ребрах\n",
    "    :param source: исходный игрок (начальная вершина)\n",
    "    :param target: целевой игрок (конечная вершина)\n",
    "    :param top_k: сколько топ-соседей рассматривать у каждого игрока\n",
    "    :param max_depth: максимальная глубина поиска\n",
    "    :return: найденный путь (список вершин) или None, если путь не найден\n",
    "    \"\"\"\n",
    "    best_path = None\n",
    "\n",
    "    def dfs(current, path, depth):\n",
    "        nonlocal best_path\n",
    "        if depth > max_depth:\n",
    "            return\n",
    "        if current == target:\n",
    "            best_path = path\n",
    "            return\n",
    "        # Получаем топовых соседей для текущего игрока\n",
    "        top_neighbors = find_top_neighbors(G, current, top_k)\n",
    "        for neighbor in top_neighbors:\n",
    "            if neighbor in path:\n",
    "                continue  # избегаем циклов\n",
    "            dfs(neighbor, path + [neighbor], depth + 1)\n",
    "            if best_path is not None:\n",
    "                # Если путь найден, можно остановиться\n",
    "                return\n",
    "\n",
    "    dfs(source, [source], 0)\n",
    "    return best_path\n"
   ]
  },
  {
   "cell_type": "code",
   "execution_count": 84,
   "id": "f28d6c39",
   "metadata": {},
   "outputs": [
    {
     "name": "stderr",
     "output_type": "stream",
     "text": [
      "Вычисление Weighted Degree: 100%|██████████| 37788/37788 [00:03<00:00, 10781.49it/s]\n"
     ]
    },
    {
     "name": "stdout",
     "output_type": "stream",
     "text": [
      "\n",
      "Вычисление Eigenvector Centrality...\n",
      "\n",
      "Вычисление Betweenness Centrality...\n"
     ]
    }
   ],
   "source": [
    "# 1. Анализ центральности и влияния\n",
    "\n",
    "# a. Взвешенная степень (Weighted Degree)\n",
    "weighted_degrees = {}\n",
    "for node in tqdm(G.nodes(), desc=\"Вычисление Weighted Degree\"):\n",
    "    total_weight = 0\n",
    "    for _, _, data in G.out_edges(node, data=True):\n",
    "        total_weight += data['weight']\n",
    "    for _, _, data in G.in_edges(node, data=True):\n",
    "        total_weight += data['weight']\n",
    "    weighted_degrees[node] = total_weight\n",
    "\n",
    "top_weighted = sorted(weighted_degrees.items(), key=lambda x: x[1], reverse=True)[:10]\n",
    "\n",
    "\n",
    "# b. Eigenvector Centrality\n",
    "print(\"\\nВычисление Eigenvector Centrality...\")\n",
    "try:\n",
    "    eigen_centrality = nx.eigenvector_centrality(G, weight='weight', max_iter=250, tol=1e-3)\n",
    "except nx.PowerIterationFailedConvergence:\n",
    "    print(\"Не удалось сходиться за 1000 итераций, использую eigenvector_centrality_numpy...\")\n",
    "    eigen_centrality = nx.eigenvector_centrality_numpy(G, weight='weight')\n",
    "\n",
    "top_eigen = sorted(eigen_centrality.items(), key=lambda x: x[1], reverse=True)[:10]\n",
    "\n",
    "\n",
    "# c. Betweenness Centrality\n",
    "print(\"\\nВычисление Betweenness Centrality...\")\n",
    "betweenness_centrality = nx.betweenness_centrality(G, weight='weight', k=5, seed=42)\n",
    "top_betweenness = sorted(betweenness_centrality.items(), key=lambda x: x[1], reverse=True)[:10]"
   ]
  },
  {
   "cell_type": "code",
   "execution_count": 85,
   "id": "3caaa10c",
   "metadata": {},
   "outputs": [
    {
     "name": "stdout",
     "output_type": "stream",
     "text": [
      "\n",
      "Вычисление комбинированного рейтинга...\n"
     ]
    },
    {
     "name": "stderr",
     "output_type": "stream",
     "text": [
      "Вычисление комбинированного рейтинга: 100%|██████████| 37788/37788 [00:00<00:00, 579962.09it/s]\n"
     ]
    }
   ],
   "source": [
    "# 2. Информационный анализ и маркетинг\n",
    "\n",
    "def normalize_dict(d):\n",
    "    max_val = max(d.values())\n",
    "    min_val = min(d.values())\n",
    "    return {k: (v - min_val) / (max_val - min_val) if max_val != min_val else 0 for k, v in d.items()}\n",
    "\n",
    "print(\"\\nВычисление комбинированного рейтинга...\")\n",
    "norm_weighted = normalize_dict(weighted_degrees)\n",
    "norm_eigen = normalize_dict(eigen_centrality)\n",
    "norm_betweenness = normalize_dict(betweenness_centrality)\n",
    "\n",
    "combined_rating = {}\n",
    "for node in tqdm(G.nodes(), desc=\"Вычисление комбинированного рейтинга\"):\n",
    "    combined_rating[node] = (norm_weighted.get(node, 0) +\n",
    "                             norm_eigen.get(node, 0) +\n",
    "                             norm_betweenness.get(node, 0)) / 3\n",
    "\n",
    "top_combined = sorted(combined_rating.items(), key=lambda x: x[1], reverse=True)[:10]"
   ]
  },
  {
   "cell_type": "code",
   "execution_count": 86,
   "id": "980e4d1f",
   "metadata": {},
   "outputs": [],
   "source": [
    "# Функция для вычисления статистики по противникам для заданного игрока.\n",
    "def get_opponent_stats(G, player):\n",
    "    \"\"\"\n",
    "    Для заданного игрока собирает статистику по всем противникам:\n",
    "      - 'count': количество партий (если атрибут 'count' есть, иначе считается 1 за ребро)\n",
    "      - 'weight': суммарный вес ребер (например, общее время партии)\n",
    "    Рассматриваются как исходящие, так и входящие ребра.\n",
    "    \"\"\"\n",
    "    stats = {}\n",
    "    # Обрабатываем исходящие ребра (player -> neighbor)\n",
    "    for _, neighbor, data in G.out_edges(player, data=True):\n",
    "        if neighbor not in stats:\n",
    "            stats[neighbor] = {'count': 0, 'weight': 0}\n",
    "        stats[neighbor]['count'] += data.get('count', 1)\n",
    "        stats[neighbor]['weight'] += data.get('weight', 0)\n",
    "    # Обрабатываем входящие ребра (neighbor -> player)\n",
    "    for neighbor, _, data in G.in_edges(player, data=True):\n",
    "        if neighbor not in stats:\n",
    "            stats[neighbor] = {'count': 0, 'weight': 0}\n",
    "        stats[neighbor]['count'] += data.get('count', 1)\n",
    "        stats[neighbor]['weight'] += data.get('weight', 0)\n",
    "    return stats\n",
    "\n",
    "# 1) Топ-5 самых частых соперников для целевого игрока.\n",
    "def get_top_opponents_by_frequency(G, player, top_n=5):\n",
    "    stats = get_opponent_stats(G, player)\n",
    "    # Используем tqdm для отслеживания сортировки (если число противников велико)\n",
    "    sorted_stats = sorted(stats.items(), key=lambda x: x[1]['count'], reverse=True)\n",
    "    return sorted_stats[:top_n]\n",
    "\n",
    "# 2) Топ-5 соперников по весу для целевого игрока.\n",
    "def get_top_opponents_by_weight(G, player, top_n=5):\n",
    "    stats = get_opponent_stats(G, player)\n",
    "    sorted_stats = sorted(stats.items(), key=lambda x: x[1]['weight'], reverse=True)\n",
    "    return sorted_stats[:top_n]\n",
    "\n",
    "# Функция, возвращающая топ-N соседей по частоте для заданного игрока.\n",
    "def get_top_neighbors_by_frequency(G, player, top_n=5):\n",
    "    stats = get_opponent_stats(G, player)\n",
    "    sorted_stats = sorted(stats.items(), key=lambda x: x[1]['count'], reverse=True)\n",
    "    return [n for n, stat in sorted_stats[:top_n]]\n",
    "\n",
    "# 3) Поиск пути от source до target, проходящего только через «топовых» (по частоте) соперников.\n",
    "def find_path_via_top_frequency(G, source, target, top_n=5, max_depth=10):\n",
    "    best_path = None\n",
    "    def dfs(current, path, depth):\n",
    "        nonlocal best_path\n",
    "        if depth > max_depth:\n",
    "            return\n",
    "        if current == target:\n",
    "            best_path = path\n",
    "            return\n",
    "        # Получаем топовых соседей для текущего игрока\n",
    "        top_neighbors = get_top_neighbors_by_frequency(G, current, top_n)\n",
    "        for neighbor in tqdm(top_neighbors, desc=f\"Расширение {current}\", leave=False):\n",
    "            if neighbor in path:\n",
    "                continue  # избегаем циклов\n",
    "            dfs(neighbor, path + [neighbor], depth + 1)\n",
    "            if best_path is not None:\n",
    "                return  # прекращаем, если путь найден\n",
    "    dfs(source, [source], 0)\n",
    "    return best_path\n"
   ]
  },
  {
   "cell_type": "code",
   "execution_count": 87,
   "id": "a27e53c6",
   "metadata": {},
   "outputs": [
    {
     "name": "stdout",
     "output_type": "stream",
     "text": [
      "Найден путь: ['king04', 'Petermw', 'MyPropellerWontSpin', 'duskoooo', 'carljk', 'M7moud', 'carlosz', 'RhandyT', 'AGERA', 'juampidelospalotes', 'pmp']\n",
      "Суммарный вес пути (в минутах): 4845.0\n",
      "Топ-5 соперников целевого игрока: ['grehu', 'alkat', 'josimariomarkes', 'kamandarrrr', 'mojtaba68']\n",
      "Путь от king04 до grehu через топ-связи: ['king04', 'Petermw', 'pedroepaulo', 'juantito2001', 'MyPropellerWontSpin', 'marren47', 'vesna55', 'king_son', 'makafish', 'caeserfox2', 'grehu']\n",
      "Путь от king04 до alkat через топ-связи: ['king04', 'Petermw', 'pedroepaulo', 'juantito2001', 'juampidelospalotes', 'chess_move', 'groliv', 'Asmoday', 'GanjaQueen', 'paisiello', 'alkat']\n",
      "Путь от king04 до josimariomarkes через топ-связи: ['king04', 'Petermw', 'pedroepaulo', 'juantito2001', 'mel_rubik', 'euller10', 'amorris', 'fufidoodle', 'Sherlockhl', 'lexakino', 'josimariomarkes']\n",
      "Путь от king04 до kamandarrrr через топ-связи: ['king04', 'Petermw', 'pedroepaulo', 'sinkrafeas', 'Thor401025', 'WestFighter', 'Mussa', 'brackwasser', 'peshkoff', 'Tamik92', 'kamandarrrr']\n",
      "Путь от king04 до mojtaba68 через топ-связи: ['king04', 'Petermw', 'pedroepaulo', 'juantito2001', 'MyPropellerWontSpin', 'duskoooo', 'siroprizrak', 'AleSanSil', 'DalaiDromedar', 'mojtaba68']\n",
      "Топ-10 игроков по суммарной весовой степени (Weighted Degree):\n",
      "Petermw: 87720.00\n",
      "carlosz: 47585.83\n",
      "DannyODonoghue: 27663.83\n",
      "KaoEmrald: 24447.00\n",
      "duskoooo: 22564.37\n",
      "AKAzad47: 21420.67\n",
      "Thor401025: 19487.17\n",
      "Trancoso: 18720.00\n",
      "Gabriel_Benjamin21: 18591.67\n",
      "polof: 17802.50\n",
      "\n",
      "Топ-10 игроков по Eigenvector Centrality:\n",
      "Petermw: 0.7491\n",
      "carlosz: 0.1984\n",
      "duskoooo: 0.1113\n",
      "pedroepaulo: 0.0725\n",
      "DannyODonoghue: 0.0714\n",
      "AKAzad47: 0.0686\n",
      "LighFusion: 0.0629\n",
      "spacemonkey272: 0.0628\n",
      "PAMBISITO: 0.0580\n",
      "king04: 0.0569\n",
      "\n",
      "Топ-10 игроков по Betweenness Centrality:\n",
      "shsalari: 0.2141\n",
      "gladiatox: 0.2063\n",
      "farbodboy19: 0.2002\n",
      "bagus: 0.1978\n",
      "gallero2015: 0.1978\n",
      "jigokumon: 0.1974\n",
      "NewToChesssss: 0.1929\n",
      "Kingyash: 0.1450\n",
      "Genesis_Tri: 0.1228\n",
      "Gerfferson: 0.1128\n",
      "\n",
      "Маркетинговая аналитика:\n",
      "Игрок Petermw является ключевым участником сообщества с комбинированным рейтингом 0.6667.\n",
      "Игрок shsalari является ключевым участником сообщества с комбинированным рейтингом 0.3524.\n",
      "Игрок gallero2015 является ключевым участником сообщества с комбинированным рейтингом 0.3471.\n",
      "Игрок gladiatox является ключевым участником сообщества с комбинированным рейтингом 0.3223.\n",
      "Игрок jigokumon является ключевым участником сообщества с комбинированным рейтингом 0.3222.\n",
      "Игрок bagus является ключевым участником сообщества с комбинированным рейтингом 0.3193.\n",
      "Игрок NewToChesssss является ключевым участником сообщества с комбинированным рейтингом 0.3150.\n",
      "Игрок farbodboy19 является ключевым участником сообщества с комбинированным рейтингом 0.3125.\n",
      "Игрок carlosz является ключевым участником сообщества с комбинированным рейтингом 0.2691.\n",
      "Игрок Kingyash является ключевым участником сообщества с комбинированным рейтингом 0.2286.\n",
      "Топ-5 самых частых соперников для pmp\n",
      "gorjaca: Частота = 2, Общий вес = 40.0\n",
      "nkabanna: Частота = 2, Общий вес = 60.0\n",
      "babae: Частота = 2, Общий вес = 52.0\n",
      "SLAVA010976: Частота = 2, Общий вес = 40.0\n",
      "octavia: Частота = 2, Общий вес = 27.166666666666668\n",
      "\n",
      "Топ-5 соперников по весу для pmp\n",
      "grehu: Общий вес = 107.66666666666667, Частота = 2\n",
      "alkat: Общий вес = 105.0, Частота = 2\n",
      "josimariomarkes: Общий вес = 85.6, Частота = 2\n",
      "kamandarrrr: Общий вес = 85.06666666666666, Частота = 2\n",
      "mojtaba68: Общий вес = 84.0, Частота = 2\n"
     ]
    }
   ],
   "source": [
    "# Пример использования:\n",
    "target = \"pmp\"\n",
    "source = \"king04\"\n",
    "\n",
    "target_player = \"pmp\"\n",
    "\n",
    "path, total_weight = beam_search_max_path(G, source, target, beam_width=1000, max_depth=10)\n",
    "\n",
    "if path:\n",
    "    print(\"Найден путь:\", path)\n",
    "    print(\"Суммарный вес пути (в минутах):\", total_weight)\n",
    "else:\n",
    "    print(\"Путь не найден.\")\n",
    "\n",
    "# Определяем топ-5 соперников целевого игрока\n",
    "top_opponents = find_top_neighbors(G, target, top_k=5)\n",
    "print(\"Топ-5 соперников целевого игрока:\", top_opponents)\n",
    "\n",
    "# Для каждого из топ-противников ищем путь от source, проходящий только через топ-связи\n",
    "for opponent in top_opponents:\n",
    "    path = find_path_via_tops(G, source, opponent, top_k=5, max_depth=10)\n",
    "    if path:\n",
    "        print(f\"Путь от {source} до {opponent} через топ-связи: {path}\")\n",
    "    else:\n",
    "        print(f\"Путь от {source} до {opponent} через топ-связи не найден.\")\n",
    "\n",
    "\n",
    "print(\"Топ-10 игроков по суммарной весовой степени (Weighted Degree):\")\n",
    "for node, wd in top_weighted:\n",
    "    print(f\"{node}: {wd:.2f}\")\n",
    "    \n",
    "\n",
    "print(\"\\nТоп-10 игроков по Eigenvector Centrality:\")\n",
    "for node, ec in top_eigen:\n",
    "    print(f\"{node}: {ec:.4f}\")\n",
    "    \n",
    "\n",
    "print(\"\\nТоп-10 игроков по Betweenness Centrality:\")\n",
    "for node, bc in top_betweenness:\n",
    "    print(f\"{node}: {bc:.4f}\")\n",
    "\n",
    "\n",
    "print(\"\\nМаркетинговая аналитика:\")\n",
    "for node, rating in top_combined:\n",
    "    print(f\"Игрок {node} является ключевым участником сообщества с комбинированным рейтингом {rating:.4f}.\")\n",
    "\n",
    "\n",
    "# 1) Топ-5 самых частых соперников целевого игрока.\n",
    "top5_freq = get_top_opponents_by_frequency(G, target_player, top_n=5)\n",
    "print(\"Топ-5 самых частых соперников для\", target_player)\n",
    "for opponent, stat in top5_freq:\n",
    "    print(f\"{opponent}: Частота = {stat['count']}, Общий вес = {stat['weight']}\")\n",
    "\n",
    "# 2) Топ-5 соперников по весу для целевого игрока.\n",
    "top5_weight = get_top_opponents_by_weight(G, target_player, top_n=5)\n",
    "print(\"\\nТоп-5 соперников по весу для\", target_player)\n",
    "for opponent, stat in top5_weight:\n",
    "    print(f\"{opponent}: Общий вес = {stat['weight']}, Частота = {stat['count']}\")\n"
   ]
  },
  {
   "cell_type": "code",
   "execution_count": 88,
   "id": "916ef50d",
   "metadata": {},
   "outputs": [
    {
     "name": "stdout",
     "output_type": "stream",
     "text": [
      "Количество вершин графа G: 37788\n"
     ]
    }
   ],
   "source": [
    "num_vertices = G.number_of_nodes()\n",
    "print(\"Количество вершин графа G:\", num_vertices)"
   ]
  }
 ],
 "metadata": {
  "kernelspec": {
   "display_name": "Python 3 (ipykernel)",
   "language": "python",
   "name": "python3"
  },
  "language_info": {
   "codemirror_mode": {
    "name": "ipython",
    "version": 3
   },
   "file_extension": ".py",
   "mimetype": "text/x-python",
   "name": "python",
   "nbconvert_exporter": "python",
   "pygments_lexer": "ipython3",
   "version": "3.11.6"
  }
 },
 "nbformat": 4,
 "nbformat_minor": 5
}
